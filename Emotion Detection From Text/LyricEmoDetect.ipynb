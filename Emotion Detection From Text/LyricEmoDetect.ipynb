{
  "nbformat": 4,
  "nbformat_minor": 0,
  "metadata": {
    "colab": {
      "name": "LyricEmoDetect.ipynb",
      "provenance": [],
      "collapsed_sections": [
        "WizAZrRcjZoB"
      ]
    },
    "kernelspec": {
      "name": "python3",
      "display_name": "Python 3"
    },
    "language_info": {
      "name": "python"
    }
  },
  "cells": [
    {
      "cell_type": "markdown",
      "source": [
        "*Sentiment Recognition From Song Lyric*\n",
        "Tools/Library: NLTK,Emo2Python"
      ],
      "metadata": {
        "id": "-hOFxe3ZjEyY"
      }
    },
    {
      "cell_type": "markdown",
      "source": [
        "# Drive Mount \n",
        "*Optional*"
      ],
      "metadata": {
        "id": "WizAZrRcjZoB"
      }
    },
    {
      "cell_type": "markdown",
      "source": [
        "***Lyrics Data From files Content/Lyric***"
      ],
      "metadata": {
        "id": "M2nDj2Hjjxy_"
      }
    },
    {
      "cell_type": "code",
      "source": [
        ""
      ],
      "metadata": {
        "id": "kYo8ojx8j6F8"
      },
      "execution_count": null,
      "outputs": []
    },
    {
      "cell_type": "markdown",
      "source": [
        "# **Library Import**"
      ],
      "metadata": {
        "id": "2ftd1eL6kB53"
      }
    },
    {
      "cell_type": "code",
      "source": [
        "import io \n",
        "import nltk\n",
        "nltk.download('stopwords')\n",
        "from nltk.corpus import stopwords \n",
        "from nltk.tokenize import word_tokenize \n",
        "\n",
        "# word_tokenize accepts \n",
        "# a string as an input, not a file. \n",
        "stop_words = set(stopwords.words('english')) \n",
        "\n",
        "print(stop_words)"
      ],
      "metadata": {
        "colab": {
          "base_uri": "https://localhost:8080/"
        },
        "id": "qv2wdbm3kFs_",
        "outputId": "87d00c02-3dcd-4c14-a40f-d1592076ce8a"
      },
      "execution_count": 4,
      "outputs": [
        {
          "output_type": "stream",
          "name": "stdout",
          "text": [
            "[nltk_data] Downloading package stopwords to /root/nltk_data...\n",
            "[nltk_data]   Unzipping corpora/stopwords.zip.\n",
            "{'under', 'hadn', 'wasn', 'won', 'these', 'ain', 'aren', 'he', 'isn', 'y', 'my', 'over', 'those', 'a', 'how', 'himself', 'was', 'on', 'but', 'to', \"shan't\", 'when', 'while', 'here', 'during', 'same', 'so', 'with', 'doing', 'will', 'again', \"wouldn't\", 'by', \"you're\", 'have', 'your', 'them', 'of', 'before', 'don', 'ma', 'shan', 'hers', 'about', 'ours', 'because', 'in', 'other', 'against', 'wouldn', 'not', 'below', 'theirs', 'then', 'its', 'o', 'hasn', 're', 'into', 'both', 'than', 'now', 'or', 'only', 'which', 've', 'any', 'can', 'our', 'weren', 'we', \"haven't\", 'if', \"couldn't\", 'you', 'has', 'down', \"mightn't\", 'their', \"you'll\", 'up', 'him', \"needn't\", \"doesn't\", 'once', 'yourselves', 'the', 'that', 'no', 'didn', 'mightn', 'itself', 'most', 'off', 'very', 'shouldn', 'further', 'there', 'for', 'she', 'm', \"hadn't\", 'and', 'nor', 'had', 'been', 'until', 'few', 'who', 'between', 'some', 'is', \"shouldn't\", 'ourselves', 'her', \"she's\", 'needn', 'what', 'i', \"you'd\", 'do', 'themselves', 'through', 'couldn', 'all', 'just', \"wasn't\", \"hasn't\", 'were', 'above', 'myself', 'me', \"isn't\", 'yours', 'should', 'why', \"that'll\", 'his', \"it's\", 'an', 'doesn', \"weren't\", \"won't\", 'it', 'am', 'after', 'from', \"mustn't\", 'did', 'does', 'be', 'too', 'they', 's', 'd', 'having', \"you've\", \"should've\", 'more', 'herself', 'll', 'out', \"aren't\", 'such', 'are', 'whom', 't', \"don't\", 'yourself', 'each', 'being', 'mustn', 'as', 'where', \"didn't\", 'haven', 'own', 'at', 'this'}\n"
          ]
        }
      ]
    },
    {
      "cell_type": "markdown",
      "source": [
        "# **Removing Stop Words**\n",
        "from nltk.tokenize"
      ],
      "metadata": {
        "id": "Gr2wFm3YkID8"
      }
    },
    {
      "cell_type": "code",
      "source": [
        "# Removing Existing Text in Recognized\n",
        "open('/content/recognized_Filtered.txt', 'w').close()\n",
        "f = open('/content/recognized_Filtered.txt', 'r+')\n",
        "f.truncate(0) # need '0' when using r+\n",
        "f.close()\n",
        "\n",
        "\n",
        "file1 = open(\"/content/Lyrics/NoPromisesShanewad.txt\") \n",
        "# reading file content as a stream: \n",
        "line = file1.read() \n",
        "words = line.split() \n",
        "for r in words: \n",
        "\tif not r in stop_words: \n",
        "\t\tappendFile = open(\"/content/recognized_Filtered.txt\",'a') \n",
        "\t\tappendFile.write(\" \"+r) \n",
        "\t\tappendFile.close() \n",
        "  \n",
        "# View Filtered Lyric text\n",
        "f = open('/content/recognized_Filtered.txt', 'r')\n",
        "file_contents = f.read()\n",
        "\n",
        "print (file_contents)\n",
        "f.close()"
      ],
      "metadata": {
        "colab": {
          "base_uri": "https://localhost:8080/"
        },
        "id": "RbV41KndkZAK",
        "outputId": "46cd8ad3-a762-4417-f4ef-16560b9b1912"
      },
      "execution_count": 8,
      "outputs": [
        {
          "output_type": "stream",
          "name": "stdout",
          "text": [
            " Hey baby, together, things love Every time near I feel like I'm heaven, feeling high I want let go, girl I need know girl I wanna run away, baby one I need tonight No promises Baby, I need hold tight, I wanna die arms Here tonight Hey baby, together, things love Everytime near I feel like I'm heaven, feeling high I want let go, girl I need know girl I wanna run away, baby one I need tonight No promises Baby, I need hold tight, I wanna die arms I want run away, I want stay forever, time time No promises I wanna run away, I wanna alone No promises Baby, I need hold tight, forever love No promises I wanna run away, baby one I need tonight No promises Baby, I need hold tight, I wanna die arms I wanna run away, baby one I need tonight No promises Baby, I need hold tight, I wanna die arms Here tonight\n"
          ]
        }
      ]
    },
    {
      "cell_type": "markdown",
      "source": [
        "# **Analyse Data For Detecting Emotion**\n",
        "using Emo2Python tool"
      ],
      "metadata": {
        "id": "DyykayR3kdLM"
      }
    },
    {
      "cell_type": "code",
      "source": [
        "pip install text2emotion"
      ],
      "metadata": {
        "colab": {
          "base_uri": "https://localhost:8080/"
        },
        "id": "R0H5VBqesPfA",
        "outputId": "4f308fbb-be2e-4e6a-9d2b-9cd0425e4e35"
      },
      "execution_count": 9,
      "outputs": [
        {
          "output_type": "stream",
          "name": "stdout",
          "text": [
            "Collecting text2emotion\n",
            "  Downloading text2emotion-0.0.5-py3-none-any.whl (57 kB)\n",
            "\u001b[?25l\r\u001b[K     |█████▊                          | 10 kB 17.5 MB/s eta 0:00:01\r\u001b[K     |███████████▍                    | 20 kB 12.1 MB/s eta 0:00:01\r\u001b[K     |█████████████████               | 30 kB 9.1 MB/s eta 0:00:01\r\u001b[K     |██████████████████████▊         | 40 kB 4.6 MB/s eta 0:00:01\r\u001b[K     |████████████████████████████▍   | 51 kB 5.5 MB/s eta 0:00:01\r\u001b[K     |████████████████████████████████| 57 kB 2.6 MB/s \n",
            "\u001b[?25hCollecting emoji>=0.6.0\n",
            "  Downloading emoji-1.7.0.tar.gz (175 kB)\n",
            "\u001b[K     |████████████████████████████████| 175 kB 11.0 MB/s \n",
            "\u001b[?25hRequirement already satisfied: nltk in /usr/local/lib/python3.7/dist-packages (from text2emotion) (3.2.5)\n",
            "Requirement already satisfied: six in /usr/local/lib/python3.7/dist-packages (from nltk->text2emotion) (1.15.0)\n",
            "Building wheels for collected packages: emoji\n",
            "  Building wheel for emoji (setup.py) ... \u001b[?25l\u001b[?25hdone\n",
            "  Created wheel for emoji: filename=emoji-1.7.0-py3-none-any.whl size=171046 sha256=7bdd348a160c7ac7a42e133256669cb2b988b22ca5278c7e1a57ca44bf8252b7\n",
            "  Stored in directory: /root/.cache/pip/wheels/8a/4e/b6/57b01db010d17ef6ea9b40300af725ef3e210cb1acfb7ac8b6\n",
            "Successfully built emoji\n",
            "Installing collected packages: emoji, text2emotion\n",
            "Successfully installed emoji-1.7.0 text2emotion-0.0.5\n"
          ]
        }
      ]
    },
    {
      "cell_type": "code",
      "source": [
        "import text2emotion as te\n",
        "\n",
        "text=open(\"/content/recognized_Filtered.txt\",\"r\").read()\n",
        "text_result=te.get_emotion(text)\n",
        "\n",
        "print(text_result)\n",
        "\n",
        "keys = text_result.keys()\n",
        "values = text_result.values()\n"
      ],
      "metadata": {
        "colab": {
          "base_uri": "https://localhost:8080/"
        },
        "id": "xMGAQ_1QkoWZ",
        "outputId": "81e1a62d-3f06-4abb-fd2d-ca99433eb9d4"
      },
      "execution_count": 10,
      "outputs": [
        {
          "output_type": "stream",
          "name": "stdout",
          "text": [
            "[nltk_data] Downloading package stopwords to /root/nltk_data...\n",
            "[nltk_data]   Package stopwords is already up-to-date!\n",
            "[nltk_data] Downloading package punkt to /root/nltk_data...\n",
            "[nltk_data]   Unzipping tokenizers/punkt.zip.\n",
            "[nltk_data] Downloading package wordnet to /root/nltk_data...\n",
            "[nltk_data]   Unzipping corpora/wordnet.zip.\n",
            "{'Happy': 0.07, 'Angry': 0.15, 'Surprise': 0.22, 'Sad': 0.52, 'Fear': 0.04}\n"
          ]
        }
      ]
    },
    {
      "cell_type": "markdown",
      "source": [
        "***Visualize Result***"
      ],
      "metadata": {
        "id": "qdoB5yY9ko1W"
      }
    },
    {
      "cell_type": "code",
      "source": [
        "import matplotlib.pyplot as plt\n",
        "\n",
        "plt.bar(keys, values)"
      ],
      "metadata": {
        "colab": {
          "base_uri": "https://localhost:8080/",
          "height": 282
        },
        "id": "qwQbWVWQskMi",
        "outputId": "7c9389d3-2c89-4910-e08a-00af0624e1ea"
      },
      "execution_count": 11,
      "outputs": [
        {
          "output_type": "execute_result",
          "data": {
            "text/plain": [
              "<BarContainer object of 5 artists>"
            ]
          },
          "metadata": {},
          "execution_count": 11
        },
        {
          "output_type": "display_data",
          "data": {
            "text/plain": [
              "<Figure size 432x288 with 1 Axes>"
            ],
            "image/png": "[encoded data removed]"
          },
          "metadata": {
            "needs_background": "light"
          }
        }
      ]
    }
  ]
}